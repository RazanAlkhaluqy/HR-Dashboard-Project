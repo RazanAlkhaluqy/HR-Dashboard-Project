{
 "cells": [
  {
   "cell_type": "markdown",
   "id": "43cdae2c",
   "metadata": {},
   "source": [
    "# HR Employee Attrition Analysis,\n",
    "    This notebook performs exploratory data analysis (EDA) and insights extraction on the WA_Fn-UseC_-HR-Employee-Attrition dataset using both Pandas and SQL (SQLite).\"\n",
    "   "
   ]
  },
  {
   "cell_type": "code",
   "execution_count": null,
   "id": "1442bc42",
   "metadata": {},
   "outputs": [],
   "source": [
    "import pandas as pd\n",
    "import sqlite3\n",
    "import plotly.express as px\n",
    "# Load dataset\n",
    "df = pd.read_csv('WA_Fn-UseC_-HR-Employee-Attrition.csv')\n",
    "df.head()"
   ]
  },
{
 "cell_type": "code",
 "execution_count": null,
 "id": "eda-summary",
 "metadata": {},
 "outputs": [],
 "source": [
  "print(\"First 5 rows:\")\n",
  "display(df.head())\n",
  "\n",
  "print(f\"\\n Shape of dataset: {df.shape[0]} rows × {df.shape[1]} columns\")\n",
  "\n",
  "print(\"\\n Info:\")\n",
  "df.info()\n",
  "\n",
  "print(\"\\n Missing values per column:\")\n",
  "print(df.isnull().sum())\n",
  "\n",
  "print(\"\\n Duplicates:\", df.duplicated().sum())\n",
  "\n",
  "print(\"\\n Summary stats:\")\n",
  "display(df.describe())"
 ]
}
,
  {
   "cell_type": "markdown",
   "id": "aac724b6",
   "metadata": {},
   "source": [
    "## Setup SQLite database"
   ]
  },
  {
   "cell_type": "code",
   "execution_count": null,
   "id": "831ae63e",
   "metadata": {},
   "outputs": [],
   "source": [
    "conn = sqlite3.connect('hr.db')\n",
    "cursor = conn.cursor()\n",
    "# Insert DataFrame into SQLite table named 'employee'\n",
    "# Uncomment the next line if you need to insert the data first\n",
    "# df.to_sql('employee', conn, index=False, if_exists='replace'"
   ]
  },
  {
   "cell_type": "markdown",
   "id": "e473a254",
   "metadata": {},
   "source": [
    "## 1. Employees who have not left the company"
   ]
  },
  {
   "cell_type": "code",
   "execution_count": null,
   "id": "b8536890",
   "metadata": {},
   "outputs": [],
   "source": [
    "print(\"1. How many employees are there?\")\n",
    "# SQL way\n",
    "query='''\n",
    "SELECT COUNT(*) FROM employee WHERE Attrition = 'No';'''\n",
    "cursor.execute(query)\n",
    "results = cursor.fetchall() \n",
    "print(\"SQL:\", results[0][0])\n",
    "# Pandas way\n",
    "employees=df[df['Attrition'] == 'No'].shape[0]\n",
    "print(\"Pandas:\", employees)"
   ]
  },
  {
   "cell_type": "markdown",
   "id": "3eb0f6f0",
   "metadata": {},
   "source": [
    "## 2. Employee count per department"
   ]
  },
  {
   "cell_type": "code",
   "execution_count": null,
   "id": "c638626c",
   "metadata": {},
   "outputs": [],
   "source": [
    "print(\"2. What is the employee count for each department?\")\n",
    "query2 = '''SELECT Department, COUNT(*) as EmployeeCount\n",
    "FROM employee\n",
    "GROUP BY Department;'''\n",
    "cursor.execute(query2)\n",
    "results = cursor.fetchall() \n",
    "print(\"Employee count in eachtment:\")\n",
    "for department, count in results:\n",
    "    print(f\"{department}: {count}\")\n",
    "# Pandas way\n",
    "dept_counts = df.groupby('Department').size()\n",
    "print(\"Pandas:\")\n",
    "for department, count in dept_counts.items():\n",
    "    print(f\"{department}: {count}\")"
   ]
  },
  {
   "cell_type": "markdown",
   "id": "47d0c7ee",
   "metadata": {},
   "source": [
    "## 3. Average monthly income per job role"
   ]
  },
  {
   "cell_type": "code",
   "execution_count": null,
   "id": "37baf0c9",
   "metadata": {},
   "outputs": [],
   "source": [
    "print(\" 3. What is the average monthly income for employees in each job role?\")\n",
    "query3 = ''' SELECT JobRole, AVG(MonthlyIncome) as AverageMonthlyIncome FROM employee GROUP BY JobRole; '''\n",
    "cursor.execute(query3)\n",
    "results = cursor.fetchall()  \n",
    "print(\"Average monthly income for each job role:\")\n",
    "for job_role, avg_income in results:\n",
    "    print(f\"{job_role}: ${avg_income:.2f}\")\n",
    "# Pandas way\n",
    "avg_income_roles = df.groupby('JobRole')['MonthlyIncome'].mean()\n",
    "print(\"Pandas:\")\n",
    "for job_role, avg_income in avg_income_roles.items():\n",
    "    print(f\"{job_role}: ${avg_income:.2f}\")"
   ]
  },
  {
   "cell_type": "markdown",
   "id": "bc6107da",
   "metadata": {},
   "source": [
    "## 4. Top 5 employees by performance rating"
   ]
  },
  {
   "cell_type": "code",
   "execution_count": null,
   "id": "95cba9b7",
   "metadata": {},
   "outputs": [],
   "source": [
    "print(\"4. who are the top 5 employees by performance rating?\")\n",
    "#SQl\n",
    "query4 = ''' SELECT EmployeeNumber, PerformanceRating FROM employee \n",
    "ORDER BY PerformanceRating DESC LIMIT 5; '''\n",
    "cursor.execute(query4)\n",
    "results = cursor.fetchall()  \n",
    "print(\"the top 5 employees by performance rating:\")\n",
    "for emp_num, rating in results:\n",
    "    print(f\"EmployeeNumber: {emp_num}, PerformanceRating: {rating}\")\n",
    "# Pandas way\n",
    "top5 = df.sort_values('PerformanceRating', ascending=False)[['EmployeeNumber', 'PerformanceRating']].head(5)\n",
    "print(\"Pandas:\")\n",
    "for _, row in top5.iterrows():\n",
    "    print(f\"EmployeeNumber: {row['EmployeeNumber']}, PerformanceRating: {row['PerformanceRating']}\")"
   ]
  },
  {
   "cell_type": "markdown",
   "id": "aab3bd73",
   "metadata": {},
   "source": [
    "## 5. Department with highest average performance rating"
   ]
  },
  {
   "cell_type": "code",
   "execution_count": null,
   "id": "8ebe283f",
   "metadata": {},
   "outputs": [],
   "source": [
    "print(\"5. which department has the highest average performance rating?\")\n",
    "#SQL\n",
    "query5 = ''' SELECT Department, AVG(PerformanceRating) as AvgPerformanceRating\n",
    "FROM employee GROUP BY Department ORDER BY AvgPerformanceRating DESC LIMIT 1; '''\n",
    "cursor.execute(query5)\n",
    "results = cursor.fetchall()\n",
    "print(\"Department with the highest average performance rating:\")\n",
    "for department, avg_rating in results:\n",
    "    print(f\"{department}: {avg_rating:.2f}\")\n",
    "# Pandas way\n",
    "dept_avg_perf = df.groupby('Department')['PerformanceRating'].mean()\n",
    "best_dept = dept_avg_perf.idxmax()\n",
    "best_rating = dept_avg_perf.max()\n",
    "print(\"Pandas:\")\n",
    "print(f\"{best_dept}: {best_rating:.2f}\")"
   ]
  },
  {
   "cell_type": "markdown",
   "id": "6191fa32",
   "metadata": {},
   "source": [
    "## 6. Attrition rate by job role and department"
   ]
  },
  {
   "cell_type": "code",
   "execution_count": null,
   "id": "64522de7",
   "metadata": {},
   "outputs": [],
   "source": [
    "print(\"6. Attrition rate by job role and department\")\n",
    "# SQL way\n",
    "query6 = \"\"\"\n",
    "SELECT Department, JobRole,\n",
    "       ROUND(SUM(CASE WHEN Attrition='Yes' THEN 1 ELSE 0 END)*100.0/COUNT(*),2) AS AttritionRate\n",
    "FROM employee GROUP BY Department, JobRole ORDER BY AttritionRate DESC;\"\"\"\n",
    "cursor.execute(query6)\n",
    "results = cursor.fetchall()\n",
    "for dept, role, rate in results:\n",
    "    print(f\"{dept} - {role}: {rate}%\")\n",
    "# Pandas way\n",
    "attrition_counts = df.groupby(['Department', 'JobRole'])['Attrition'].value_counts().unstack().fillna(0)\n",
    "attrition_rate = (attrition_counts['Yes'] / attrition_counts.sum(axis=1) * 100).round(2)\n",
    "print(\"Pandas:\")\n",
    "for idx, rate in attrition_rate.sort_values(ascending=False).items():\n",
    "    print(f\"{idx[0]} - {idx[1]}: {rate}%\")"
   ]
  },
  {
   "cell_type": "markdown",
   "id": "70cb9d6a",
   "metadata": {},
   "source": [
    "## 7. Correlation between monthly income and attrition"
   ]
  },
  {
   "cell_type": "code",
   "execution_count": null,
   "id": "fd67c5dc",
   "metadata": {},
   "outputs": [],
   "source": [
    "print(\"7. Correlation between monthly income and attrition\")\n",
    "# SQL way\n",
    "query7 = \"\"\"SELECT Attrition, AVG(MonthlyIncome)\n",
    "FROM employee GROUP BY Attrition;\"\"\"\n",
    "cursor.execute(query7)\n",
    "results = cursor.fetchall()\n",
    "for attrition, avg_income in results:\n",
    "    print(f\"{attrition}: ${avg_income:.2f}\")\n",
    "# Pandas way\n",
    "income_by_attrition = df.groupby('Attrition')['MonthlyIncome'].mean()\n",
    "print(\"Pandas:\")\n",
    "for attrition, avg_income in income_by_attrition.items():\n",
    "    print(f\"{attrition}: ${avg_income:.2f}\")"
   ]
  },
  {
   "cell_type": "markdown",
   "id": "17a56746",
   "metadata": {},
   "source": [
    "## 8. Performance rating vs attrition"
   ]
  },
  {
   "cell_type": "code",
   "execution_count": null,
   "id": "a8a4f614",
   "metadata": {},
   "outputs": [],
   "source": [
    "print(\"8. Performance rating vs attrition\")\n",
    "# SQL way\n",
    "query8 = \"\"\"\n",
    "SELECT PerformanceRating, Attrition, COUNT(*)\n",
    "FROM employee\n",
    "GROUP BY PerformanceRating, Attrition\n",
    "ORDER BY PerformanceRating DESC;\n",
    "\"\"\"\n",
    "cursor.execute(query8)\n",
    "results = cursor.fetchall()\n",
    "for rating, attrition, count in results:\n",
    "    print(f\"PerformanceRating: {rating}, Attrition: {attrition}, Count: {count}\")\n",
    "# Pandas way\n",
    "perf_attrition = df.groupby(['PerformanceRating', 'Attrition']).size().unstack(fill_value=0)\n",
    "print(\"Pandas:\")\n",
    "print(perf_attrition)"
   ]
  },
  {
   "cell_type": "markdown",
   "id": "0f002e55",
   "metadata": {},
   "source": [
    "## 9. Employee segments at highest risk of attrition"
   ]
  },
  {
   "cell_type": "code",
   "execution_count": null,
   "id": "ecfae3d0",
   "metadata": {},
   "outputs": [],
   "source": [
    "print(\"9. Which employee segments are at highest risk of attrition?\")\n",
    "# SQL way\n",
    "query = \"\"\"\n",
    "SELECT Department, JobRole, Education, \n",
    "       CASE WHEN YearsAtCompany < 3 THEN '<3'\n",
    "           WHEN YearsAtCompany BETWEEN 3 AND 6 THEN '3-6'\n",
    "           ELSE '>6'\n",
    "       END AS TenureGroup,\n",
    "       ROUND(SUM(CASE WHEN Attrition='Yes' THEN 1 ELSE 0 END)*100.0/COUNT(*),2) AS AttritionRate,\n",
    "       COUNT(*) as EmployeeCount\n",
    "FROM employee\n",
    "GROUP BY Department, JobRole, Education, TenureGroup\n",
    "ORDER BY AttritionRate DESC, EmployeeCount DESC\n",
    "LIMIT 10;\n",
    "\"\"\"\n",
    "cursor.execute(query)\n",
    "results = cursor.fetchall()\n",
    "for dept, role, edu, tenure, rate, count in results:\n",
    "    print(f\"{dept} | {role} | Education: {edu} | Tenure: {tenure} | Attrition Rate: {rate}% | Employees: {count}\")\n",
    "# Pandas way\n",
    "print(\"Pandas:\")\n",
    "df['TenureGroup'] = pd.cut(\n",
    "    df['YearsAtCompany'], \n",
    "    bins=[-1, 2, 6, 100],   # <3, 3-6, >6\n",
    "    labels=['<3','3-6','>6']\n",
    ")\n",
    "seg_attrition = (\n",
    "    df.groupby(['Department', 'JobRole', 'Education', 'TenureGroup'])\n",
    "      ['Attrition']\n",
    "      .value_counts()\n",
    "      .unstack(fill_value=0)  # Split Yes/No into columns\n",
    ") \n",
    "# Calculate total employees & attrition rate\n",
    "seg_attrition['Employees'] = seg_attrition.sum(axis=1)\n",
    "seg_attrition['Attrition Rate'] = seg_attrition['Yes'] / seg_attrition['Employees'] * 100\n",
    "# Reset index for readability\n",
    "seg_attrition = seg_attrition.reset_index()\n",
    "# Sort by highest attrition rate\n",
    "seg_attrition = seg_attrition.sort_values(by='Attrition Rate', ascending=False)"
   ]
  }
 ],
 "metadata": {
  "kernelspec": {
   "display_name": "base",
   "language": "python",
   "name": "python3"
  },
  "language_info": {
   "codemirror_mode": {
    "name": "ipython",
    "version": 3
   },
   "file_extension": ".py",
   "mimetype": "text/x-python",
   "name": "python",
   "nbconvert_exporter": "python",
   "pygments_lexer": "ipython3",
   "version": "3.13.5"
  }
 },
 "nbformat": 4,
 "nbformat_minor": 5
}
